{
 "cells": [
  {
   "cell_type": "code",
   "execution_count": 3,
   "metadata": {},
   "outputs": [],
   "source": [
    "import json\n",
    "import requests"
   ]
  },
  {
   "cell_type": "code",
   "execution_count": 5,
   "metadata": {},
   "outputs": [],
   "source": [
    "# You need to get this from API provider\n",
    "token = 'My_Token_Here'\n",
    "\n",
    "headers = {\n",
    "    \"Authorization\": \"Bearer %s\" % token,\n",
    "}\n",
    "\n",
    "response = requests.get('https://api.lifx.com/v1/lights/all', headers=headers)"
   ]
  },
  {
   "cell_type": "code",
   "execution_count": 6,
   "metadata": {},
   "outputs": [
    {
     "data": {
      "text/plain": [
       "[{'id': 'd073d553e0d7',\n",
       "  'uuid': '02a93b95-2e16-4216-954f-0e11d7e8dba5',\n",
       "  'label': 'Tester',\n",
       "  'connected': True,\n",
       "  'power': 'on',\n",
       "  'color': {'hue': 234.98, 'saturation': 0, 'kelvin': 2000},\n",
       "  'brightness': 0.01,\n",
       "  'group': {'id': '033ddc73d9a2167b7e31850908054b64', 'name': 'Bedroom'},\n",
       "  'location': {'id': '7ae3afeec4c02f2bdae44f29601e3b5d', 'name': 'Home'},\n",
       "  'product': {'name': 'LIFX Mini',\n",
       "   'identifier': 'lifx_mini',\n",
       "   'company': 'LIFX',\n",
       "   'vendor_id': 1,\n",
       "   'product_id': 49,\n",
       "   'capabilities': {'has_color': True,\n",
       "    'has_variable_color_temp': True,\n",
       "    'has_ir': False,\n",
       "    'has_hev': False,\n",
       "    'has_chain': False,\n",
       "    'has_matrix': False,\n",
       "    'has_multizone': False,\n",
       "    'min_kelvin': 2500,\n",
       "    'max_kelvin': 9000}},\n",
       "  'last_seen': '2021-02-15T12:43:55Z',\n",
       "  'seconds_since_seen': 0}]"
      ]
     },
     "metadata": {},
     "output_type": "display_data"
    }
   ],
   "source": [
    "lights = response.json()\n",
    "display(lights)"
   ]
  },
  {
   "cell_type": "code",
   "execution_count": 7,
   "metadata": {},
   "outputs": [
    {
     "data": {
      "text/html": [
       "<div>\n",
       "<style scoped>\n",
       "    .dataframe tbody tr th:only-of-type {\n",
       "        vertical-align: middle;\n",
       "    }\n",
       "\n",
       "    .dataframe tbody tr th {\n",
       "        vertical-align: top;\n",
       "    }\n",
       "\n",
       "    .dataframe thead th {\n",
       "        text-align: right;\n",
       "    }\n",
       "</style>\n",
       "<table border=\"1\" class=\"dataframe\">\n",
       "  <thead>\n",
       "    <tr style=\"text-align: right;\">\n",
       "      <th></th>\n",
       "      <th>id</th>\n",
       "      <th>uuid</th>\n",
       "      <th>label</th>\n",
       "      <th>connected</th>\n",
       "      <th>power</th>\n",
       "      <th>color</th>\n",
       "      <th>brightness</th>\n",
       "      <th>group</th>\n",
       "      <th>location</th>\n",
       "      <th>product</th>\n",
       "      <th>last_seen</th>\n",
       "      <th>seconds_since_seen</th>\n",
       "    </tr>\n",
       "  </thead>\n",
       "  <tbody>\n",
       "    <tr>\n",
       "      <th>0</th>\n",
       "      <td>d073d553e0d7</td>\n",
       "      <td>02a93b95-2e16-4216-954f-0e11d7e8dba5</td>\n",
       "      <td>Tester</td>\n",
       "      <td>True</td>\n",
       "      <td>on</td>\n",
       "      <td>{'hue': 234.98, 'saturation': 0, 'kelvin': 2000}</td>\n",
       "      <td>0.01</td>\n",
       "      <td>{'id': '033ddc73d9a2167b7e31850908054b64', 'na...</td>\n",
       "      <td>{'id': '7ae3afeec4c02f2bdae44f29601e3b5d', 'na...</td>\n",
       "      <td>{'name': 'LIFX Mini', 'identifier': 'lifx_mini...</td>\n",
       "      <td>2021-02-15T12:43:55Z</td>\n",
       "      <td>0</td>\n",
       "    </tr>\n",
       "  </tbody>\n",
       "</table>\n",
       "</div>"
      ],
      "text/plain": [
       "             id                                  uuid   label  connected  \\\n",
       "0  d073d553e0d7  02a93b95-2e16-4216-954f-0e11d7e8dba5  Tester       True   \n",
       "\n",
       "  power                                             color  brightness  \\\n",
       "0    on  {'hue': 234.98, 'saturation': 0, 'kelvin': 2000}        0.01   \n",
       "\n",
       "                                               group  \\\n",
       "0  {'id': '033ddc73d9a2167b7e31850908054b64', 'na...   \n",
       "\n",
       "                                            location  \\\n",
       "0  {'id': '7ae3afeec4c02f2bdae44f29601e3b5d', 'na...   \n",
       "\n",
       "                                             product             last_seen  \\\n",
       "0  {'name': 'LIFX Mini', 'identifier': 'lifx_mini...  2021-02-15T12:43:55Z   \n",
       "\n",
       "   seconds_since_seen  \n",
       "0                   0  "
      ]
     },
     "metadata": {},
     "output_type": "display_data"
    }
   ],
   "source": [
    "import pandas as pd\n",
    "\n",
    "lights_df = pd.DataFrame.from_dict(lights)\n",
    "display(lights_df)"
   ]
  },
  {
   "cell_type": "code",
   "execution_count": 8,
   "metadata": {},
   "outputs": [
    {
     "name": "stdout",
     "output_type": "stream",
     "text": [
      "Tester\n"
     ]
    }
   ],
   "source": [
    "\n",
    "for light in lights:\n",
    "    print(light['label'])"
   ]
  },
  {
   "cell_type": "code",
   "execution_count": 13,
   "metadata": {},
   "outputs": [
    {
     "data": {
      "text/plain": [
       "'Tester'"
      ]
     },
     "metadata": {},
     "output_type": "display_data"
    },
    {
     "data": {
      "text/plain": [
       "'d073d553e0d7'"
      ]
     },
     "metadata": {},
     "output_type": "display_data"
    }
   ],
   "source": [
    "# Picking a light using JSON\n",
    "label_id = lights[0]['id']\n",
    "\n",
    "display(lights[0]['label'])\n",
    "display(label_id)"
   ]
  },
  {
   "cell_type": "code",
   "execution_count": 14,
   "metadata": {},
   "outputs": [],
   "source": [
    " payload = {\n",
    "    \"states\": [\n",
    "    {\n",
    "        \"selector\" : f\"id:{label_id}\",\n",
    "        \"power\": \"on\"\n",
    "    }\n",
    "  ]\n",
    "}\n",
    "\n",
    "response = requests.put('https://api.lifx.com/v1/lights/states', data=json.dumps(payload), headers=headers)\n"
   ]
  },
  {
   "cell_type": "code",
   "execution_count": 18,
   "metadata": {},
   "outputs": [
    {
     "data": {
      "text/plain": [
       "b'{\\n  \"results\": [\\n    {\\n      \"operation\": {\\n        \"selector\": \"id:d073d553e0d7\",\\n        \"power\": \"on\"\\n      },\\n      \"results\": [\\n        {\\n          \"id\": \"d073d553e0d7\",\\n          \"status\": \"ok\",\\n          \"label\": \"Tester\"\\n        }\\n      ]\\n    }\\n  ]\\n}'"
      ]
     },
     "execution_count": 18,
     "metadata": {},
     "output_type": "execute_result"
    }
   ],
   "source": [
    "response.content\n"
   ]
  },
  {
   "cell_type": "code",
   "execution_count": 19,
   "metadata": {},
   "outputs": [
    {
     "data": {
      "text/plain": [
       "{'results': [{'operation': {'selector': 'id:d073d553e0d7', 'power': 'on'},\n",
       "   'results': [{'id': 'd073d553e0d7', 'status': 'ok', 'label': 'Tester'}]}]}"
      ]
     },
     "execution_count": 19,
     "metadata": {},
     "output_type": "execute_result"
    }
   ],
   "source": [
    "response.json()"
   ]
  },
  {
   "cell_type": "code",
   "execution_count": 20,
   "metadata": {},
   "outputs": [
    {
     "data": {
      "text/plain": [
       "{'results': [{'operation': {'selector': 'id:d073d553e0d7',\n",
       "    'color': 'blue',\n",
       "    'brightness': 0.5},\n",
       "   'results': [{'id': 'd073d553e0d7', 'status': 'ok', 'label': 'Tester'}]}]}"
      ]
     },
     "execution_count": 20,
     "metadata": {},
     "output_type": "execute_result"
    }
   ],
   "source": [
    "payload = {\n",
    "  \"states\": [\n",
    "    {\n",
    "        \"selector\" : f\"id:{label_id}\",\n",
    "            \"period\": 2,\n",
    "            \"cycles\": 5,\n",
    "            \"color\": \"blue\",\n",
    "            \"brightness\": 0.5\n",
    "    }\n",
    "  ],\n",
    "  \"defaults\": {\n",
    "    \"power\": \"on\",\n",
    "    \"saturation\": 0,\n",
    "    \"duration\": 2.0\n",
    "\n",
    "  }\n",
    "}\n",
    "\n",
    "response = requests.put('https://api.lifx.com/v1/lights/states', data=json.dumps(payload), headers=headers)\n",
    "response.json()"
   ]
  },
  {
   "cell_type": "code",
   "execution_count": 28,
   "metadata": {},
   "outputs": [
    {
     "data": {
      "text/plain": [
       "<bound method Response.json of <Response [207]>>"
      ]
     },
     "execution_count": 28,
     "metadata": {},
     "output_type": "execute_result"
    }
   ],
   "source": [
    "# turn it green instantly\n",
    "\n",
    "payload = {\n",
    "  \"states\": [\n",
    "    {\n",
    "        \"selector\" : f\"id:{label_id}\",\n",
    "        \"power\": \"on\",\n",
    "        \"color\": \"green\",\n",
    "        \"brightness\" : 0.2,\n",
    "        \"duration\" : 0.1,\n",
    "    }\n",
    "  ]\n",
    "}\n",
    "\n",
    "response = requests.put('https://api.lifx.com/v1/lights/states', data=json.dumps(payload), headers=headers)\n",
    "response.json"
   ]
  },
  {
   "cell_type": "code",
   "execution_count": 27,
   "metadata": {},
   "outputs": [
    {
     "data": {
      "text/plain": [
       "<bound method Response.json of <Response [207]>>"
      ]
     },
     "execution_count": 27,
     "metadata": {},
     "output_type": "execute_result"
    }
   ],
   "source": [
    "# turn it red over 30 mins\n",
    "\n",
    "payload = {\n",
    "  \"states\": [\n",
    "    {\n",
    "        \"selector\" : f\"id:{label_id}\",\n",
    "        \"power\": \"on\",\n",
    "        \"color\": \"red\",\n",
    "        \"brightness\" : 0.2,\n",
    "        \"duration\" : 1800,\n",
    "    }\n",
    "  ]\n",
    "}\n",
    "\n",
    "response = requests.put('https://api.lifx.com/v1/lights/states', data=json.dumps(payload), headers=headers)\n",
    "response.json"
   ]
  },
  {
   "cell_type": "code",
   "execution_count": null,
   "metadata": {},
   "outputs": [],
   "source": []
  }
 ],
 "metadata": {
  "kernelspec": {
   "display_name": "Python 3",
   "language": "python",
   "name": "python3"
  },
  "language_info": {
   "codemirror_mode": {
    "name": "ipython",
    "version": 3
   },
   "file_extension": ".py",
   "mimetype": "text/x-python",
   "name": "python",
   "nbconvert_exporter": "python",
   "pygments_lexer": "ipython3",
   "version": "3.7.7"
  }
 },
 "nbformat": 4,
 "nbformat_minor": 4
}
